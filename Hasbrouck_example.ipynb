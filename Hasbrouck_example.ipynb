{
 "cells": [
  {
   "cell_type": "code",
   "execution_count": 5,
   "metadata": {},
   "outputs": [],
   "source": [
    "# Re-define the entire class structure along with the required imports and functions\n",
    "\n",
    "import numpy as np\n",
    "import pandas as pd\n",
    "from functools import reduce\n",
    "import warnings\n",
    "from statsmodels.tsa.vector_ar import vecm\n",
    "from statsmodels.tsa.vector_ar.vecm import VECM, select_order , select_coint_rank\n",
    "from analysis_metrics.hasbrouck import InfoShares, ResultsWarper, compshares, ishares, mishares\n",
    "norm = np.linalg.norm"
   ]
  },
  {
   "cell_type": "code",
   "execution_count": 6,
   "metadata": {},
   "outputs": [
    {
     "name": "stdout",
     "output_type": "stream",
     "text": [
      "[[0.75694353 0.24305647]]\n"
     ]
    }
   ],
   "source": [
    "# Generate synthetic data for testing\n",
    "#Synthetic data case number 1: RANDOM DATA\n",
    "np.random.seed(42)\n",
    "data = pd.DataFrame(np.random.randn(100, 2), columns=['Variable1', 'Variable2'])\n",
    "\n",
    "# Initialize the InfoShares class with synthetic data\n",
    "info_shares_model = InfoShares(data, k_ar_diff=1)\n",
    "\n",
    "# Fit the model\n",
    "results = info_shares_model.fit()\n",
    "\n",
    "# Display results\n",
    "print(results.infoShares)"
   ]
  },
  {
   "cell_type": "code",
   "execution_count": 7,
   "metadata": {},
   "outputs": [
    {
     "name": "stdout",
     "output_type": "stream",
     "text": [
      "Johansen cointegration test using trace test statistic with 10% significance level\n",
      "=====================================\n",
      "r_0 r_1 test statistic critical value\n",
      "-------------------------------------\n",
      "  0   2          11.11          13.43\n",
      "-------------------------------------\n",
      "0\n",
      "[[0.98518411 0.01481589]]\n"
     ]
    }
   ],
   "source": [
    "#Synthetic data case number 2: Clear lider.\n",
    "# Generate synthetic data for the second case\n",
    "np.random.seed(42)\n",
    "n = 1000\n",
    "time_series_1 = np.cumsum(np.random.uniform(-1, 1, n))\n",
    "\n",
    "# Generate random cumulative sums for the first 100 values\n",
    "initial_cumsum = np.cumsum(np.random.uniform(-1, 1, 100))\n",
    "\n",
    "# Shift the time series 100 to the future\n",
    "time_series_2 = np.empty(n)\n",
    "time_series_2[:100] = np.nan  # Initialize the first 100 values as NaN\n",
    "time_series_2[100:] = time_series_1[:-100]  # Shift the time series\n",
    "\n",
    "# Replace NaN values with the generated random cumulative sums\n",
    "time_series_2[:100] = initial_cumsum\n",
    "\n",
    "# Create the DataFrame\n",
    "data_lagged = pd.DataFrame({'Variable1': time_series_1, 'Variable2': time_series_2})\n",
    "\n",
    "rank_test = select_coint_rank(data_lagged, 0, 1, method=\"trace\",\n",
    "                              signif=0.1)\n",
    "#We print the rank test\n",
    "print(rank_test)\n",
    "print(rank_test.rank)\n",
    "\n",
    "# Initialize the InfoShares class with the lagged data\n",
    "info_shares_model_lagged = InfoShares(data_lagged, k_ar_diff=1)\n",
    "\n",
    "# Fit the model and compute the metric\n",
    "results_lagged = info_shares_model_lagged.fit()\n",
    "\n",
    "# Display the results\n",
    "print(results_lagged.infoShares)"
   ]
  },
  {
   "cell_type": "code",
   "execution_count": 8,
   "metadata": {},
   "outputs": [
    {
     "name": "stdout",
     "output_type": "stream",
     "text": [
      "[[0.01405019 0.98594981]]\n"
     ]
    }
   ],
   "source": [
    "#Synthetic data case number 3: Clear lider, but on position 2.\n",
    "# Generate synthetic data for the third case (reversing the order of variables)\n",
    "data_lagged_reversed = pd.DataFrame({'Variable1': time_series_2, 'Variable2': time_series_1})\n",
    "\n",
    "# Initialize the InfoShares class with the reversed lagged data\n",
    "info_shares_model_lagged_reversed = InfoShares(data_lagged_reversed, k_ar_diff=1)\n",
    "\n",
    "# Fit the model and compute the metric\n",
    "results_lagged_reversed = info_shares_model_lagged_reversed.fit()\n",
    "\n",
    "# Display the results\n",
    "print(results_lagged_reversed.infoShares)"
   ]
  },
  {
   "cell_type": "code",
   "execution_count": 9,
   "metadata": {},
   "outputs": [
    {
     "name": "stdout",
     "output_type": "stream",
     "text": [
      "[[0.99885796 0.00114204]]\n"
     ]
    }
   ],
   "source": [
    "\n",
    "#Synthetic data case number 4: Explicitly cointegrated data.\n",
    "# Generate synthetic data for the cointegrated case\n",
    "np.random.seed(42)\n",
    "n = 1000\n",
    "X_t = np.cumsum(np.random.randn(n))  # Random walk for the first series\n",
    "alpha = 1.5\n",
    "epsilon_t = np.random.normal(0, 0.1, n)\n",
    "Y_t = alpha * X_t + epsilon_t  # Cointegrated series\n",
    "\n",
    "data_cointegrated = pd.DataFrame({'Variable1': X_t, 'Variable2': Y_t})\n",
    "\n",
    "# Initialize the InfoShares class with the cointegrated data\n",
    "info_shares_model_cointegrated = InfoShares(data_cointegrated, k_ar_diff=1)\n",
    "\n",
    "# Fit the model and compute the metric\n",
    "results_cointegrated = info_shares_model_cointegrated.fit()\n",
    "\n",
    "# Display the results\n",
    "print(results_cointegrated.infoShares)"
   ]
  },
  {
   "cell_type": "code",
   "execution_count": 10,
   "metadata": {},
   "outputs": [
    {
     "name": "stdout",
     "output_type": "stream",
     "text": [
      "[[0.9896988 0.0103012]]\n"
     ]
    }
   ],
   "source": [
    "#Synthetic data case number 5: Explicitly cointegrated data, lider on position 2.\n",
    "# Generate synthetic data for the cointegrated case with inverted series\n",
    "data_cointegrated_inverted = pd.DataFrame({'Variable1': Y_t, 'Variable2': X_t})\n",
    "\n",
    "# Initialize the InfoShares class with the inverted cointegrated data\n",
    "info_shares_model_cointegrated_inverted = InfoShares(data_cointegrated_inverted, k_ar_diff=1)\n",
    "\n",
    "# Fit the model and compute the metric\n",
    "results_cointegrated_inverted = info_shares_model_cointegrated_inverted.fit()\n",
    "\n",
    "# Display the results\n",
    "print(results_cointegrated_inverted.infoShares)"
   ]
  }
 ],
 "metadata": {
  "kernelspec": {
   "display_name": "bd_new",
   "language": "python",
   "name": "python3"
  },
  "language_info": {
   "codemirror_mode": {
    "name": "ipython",
    "version": 3
   },
   "file_extension": ".py",
   "mimetype": "text/x-python",
   "name": "python",
   "nbconvert_exporter": "python",
   "pygments_lexer": "ipython3",
   "version": "3.11.7"
  }
 },
 "nbformat": 4,
 "nbformat_minor": 2
}
